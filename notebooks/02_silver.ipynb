{
 "cells": [
  {
   "cell_type": "code",
   "execution_count": 2,
   "id": "f7b29f88-7a03-474a-8863-ddac528499a9",
   "metadata": {
    "tags": []
   },
   "outputs": [],
   "source": [
    "import os\n",
    "\n",
    "from pyspark.sql import SparkSession\n",
    "from pyspark.sql.functions import col\n",
    "\n",
    "\n",
    "# Recriando a função de iniciar sessão Spark\n",
    "def create_spark_session():\n",
    "    spark = (\n",
    "        SparkSession.builder.appName('Silver Layer - Soccer Analysis')\n",
    "        .enableHiveSupport()\n",
    "        .config(\n",
    "            'spark.sql.extensions', 'io.delta.sql.DeltaSparkSessionExtension'\n",
    "        )\n",
    "        .config(\n",
    "            'spark.sql.catalog.spark_catalog',\n",
    "            'org.apache.spark.sql.delta.catalog.DeltaCatalog',\n",
    "        )\n",
    "        .config(\n",
    "            'spark.hadoop.fs.s3a.impl',\n",
    "            'org.apache.hadoop.fs.s3a.S3AFileSystem',\n",
    "        )\n",
    "        .config('spark.hadoop.fs.s3a.path.style.access', 'true')\n",
    "        .config('spark.hadoop.fs.s3a.endpoint', os.getenv('MINIO_ENDPOINT'))\n",
    "        .config('spark.hadoop.fs.s3a.access.key', os.getenv('MINIO_ROOT_USER'))\n",
    "        .config(\n",
    "            'spark.hadoop.fs.s3a.secret.key', os.getenv('MINIO_ROOT_PASSWORD')\n",
    "        )\n",
    "        .getOrCreate()\n",
    "    )\n",
    "    return spark\n",
    "\n",
    "\n",
    "spark = create_spark_session()"
   ]
  },
  {
   "cell_type": "code",
   "execution_count": 3,
   "id": "da5ed3b1-3240-4b68-b10f-9f3a2c7346bf",
   "metadata": {
    "tags": []
   },
   "outputs": [],
   "source": [
    "# Tabela silver_country\n",
    "# Objetivo: Limpar e enriquecer dados de países.\n",
    "\n",
    "# Leia a tabela country da Bronze\n",
    "df_country = spark.read.format('delta').load(\n",
    "    's3a://bucket-bronze-zone/soccer/country/'\n",
    ")\n",
    "\n",
    "# Transformações\n",
    "df_country_silver = (\n",
    "    df_country.select(\n",
    "        col('id').alias('country_id'), col('name').alias('country_name')\n",
    "    ).dropDuplicates(['country_id'])  # Remove duplicatas\n",
    ")\n",
    "\n",
    "# Salvar como Delta Lake particionado\n",
    "(\n",
    "    df_country_silver.write.format('delta')\n",
    "    .mode('overwrite')\n",
    "    .save('s3a://bucket-silver-zone/soccer/country/')\n",
    ")"
   ]
  },
  {
   "cell_type": "code",
   "execution_count": 5,
   "id": "780f33c4-9044-460f-99fa-2877ba8b3406",
   "metadata": {
    "tags": []
   },
   "outputs": [],
   "source": [
    "# Tabela silver_league\n",
    "# Objetivo: Vincular ligas aos países com nomes claros.\n",
    "\n",
    "df_league = spark.read.format('delta').load(\n",
    "    's3a://bucket-bronze-zone/soccer/league/'\n",
    ")\n",
    "df_country_silver = spark.read.format('delta').load(\n",
    "    's3a://bucket-silver-zone/soccer/country/'\n",
    ")\n",
    "\n",
    "df_league_silver = df_league.join(\n",
    "    df_country_silver,\n",
    "    df_league['country_id'] == df_country_silver['country_id'],\n",
    "    'left',\n",
    ").select(\n",
    "    df_league['id'].alias('league_id'),\n",
    "    df_league['name'].alias('league_name'),\n",
    "    df_country_silver['country_name'],\n",
    "    df_league['country_id'],\n",
    ")\n",
    "\n",
    "# Salvar\n",
    "(\n",
    "    df_league_silver.write.format('delta')\n",
    "    .mode('overwrite')\n",
    "    .save('s3a://bucket-silver-zone/soccer/league/')\n",
    ")"
   ]
  },
  {
   "cell_type": "code",
   "execution_count": 6,
   "id": "47913e75-005d-4063-acc3-c650ab6ffd48",
   "metadata": {
    "tags": []
   },
   "outputs": [],
   "source": [
    "# Tabela silver_team\n",
    "# Objetivo: Padronizar nomes e remover colunas desnecessárias.\n",
    "\n",
    "df_team = spark.read.format('delta').load(\n",
    "    's3a://bucket-bronze-zone/soccer/team/'\n",
    ")\n",
    "\n",
    "df_team_silver = df_team.select(\n",
    "    col('id').alias('team_id'),\n",
    "    col('team_api_id'),\n",
    "    col('team_long_name').alias('team_name'),\n",
    "    col('team_short_name').alias('team_abbreviation'),\n",
    ")\n",
    "\n",
    "# Salvar\n",
    "(\n",
    "    df_team_silver.write.format('delta')\n",
    "    .mode('overwrite')\n",
    "    .save('s3a://bucket-silver-zone/soccer/team/')\n",
    ")"
   ]
  },
  {
   "cell_type": "code",
   "execution_count": 7,
   "id": "4c63133f-e605-4891-bc2a-f3a05f58bc80",
   "metadata": {
    "tags": []
   },
   "outputs": [],
   "source": [
    "# Tabela silver_match\n",
    "# Objetivo:\n",
    "# Calcular métricas de gols por liga/país e particionar por temporada.\n",
    "\n",
    "df_match = spark.read.format('delta').load(\n",
    "    's3a://bucket-bronze-zone/soccer/match/'\n",
    ")\n",
    "df_league_silver = spark.read.format('delta').load(\n",
    "    's3a://bucket-silver-zone/soccer/league/'\n",
    ")\n",
    "\n",
    "# Calcule gols totais por partida e agregue por liga/país\n",
    "df_match_silver = (\n",
    "    df_match.withColumn(\n",
    "        'total_goals', col('home_team_goal') + col('away_team_goal')\n",
    "    )\n",
    "    .join(df_league_silver, 'league_id', 'left')\n",
    "    .select(\n",
    "        col('id').alias('match_id'),\n",
    "        col('date'),\n",
    "        col('season'),\n",
    "        col('league_id'),\n",
    "        col('league_name'),\n",
    "        col('country_name'),\n",
    "        col('home_team_goal'),\n",
    "        col('away_team_goal'),\n",
    "        col('total_goals'),\n",
    "    )\n",
    ")\n",
    "\n",
    "# Salve particionado por temporada (para análise eficiente)\n",
    "(\n",
    "    df_match_silver.write.format('delta')\n",
    "    .partitionBy('season')  # Particionamento crítico para performance\n",
    "    .mode('overwrite')\n",
    "    .save('s3a://bucket-silver-zone/soccer/match/')\n",
    ")"
   ]
  },
  {
   "cell_type": "code",
   "execution_count": 8,
   "id": "4cc8ce3b-d558-419d-b086-467862b71dc6",
   "metadata": {
    "tags": []
   },
   "outputs": [],
   "source": [
    "# Encerrar a sessão do Spark\n",
    "spark.stop()"
   ]
  }
 ],
 "metadata": {
  "kernelspec": {
   "display_name": "Python 3 (ipykernel)",
   "language": "python",
   "name": "python3"
  },
  "language_info": {
   "codemirror_mode": {
    "name": "ipython",
    "version": 3
   },
   "file_extension": ".py",
   "mimetype": "text/x-python",
   "name": "python",
   "nbconvert_exporter": "python",
   "pygments_lexer": "ipython3",
   "version": "3.10.5"
  }
 },
 "nbformat": 4,
 "nbformat_minor": 5
}
