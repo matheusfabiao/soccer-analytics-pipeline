{
 "cells": [
  {
   "cell_type": "code",
   "execution_count": 1,
   "id": "04bbf665-9daa-49e5-bb60-d943b28a8714",
   "metadata": {
    "tags": []
   },
   "outputs": [],
   "source": [
    "from pyspark.sql import SparkSession\n",
    "from pyspark.sql.functions import sum, count, round, col, desc, rank\n",
    "from pyspark.sql.window import Window\n",
    "import os\n",
    "\n",
    "def create_spark_session():\n",
    "    spark = (\n",
    "        SparkSession.builder\n",
    "        .appName(\"Gold Layer - Soccer Analysis\")\n",
    "        .enableHiveSupport()\n",
    "        .config(\"spark.sql.extensions\", \"io.delta.sql.DeltaSparkSessionExtension\")\n",
    "        .config(\"spark.sql.catalog.spark_catalog\", \"org.apache.spark.sql.delta.catalog.DeltaCatalog\")\n",
    "        .config(\"spark.hadoop.fs.s3a.impl\", \"org.apache.hadoop.fs.s3a.S3AFileSystem\")\n",
    "        .config(\"spark.hadoop.fs.s3a.path.style.access\", \"true\")\n",
    "        .config(\"spark.hadoop.fs.s3a.endpoint\", os.getenv(\"MINIO_ENDPOINT\"))\n",
    "        .config(\"spark.hadoop.fs.s3a.access.key\", os.getenv(\"MINIO_ROOT_USER\"))\n",
    "        .config(\"spark.hadoop.fs.s3a.secret.key\", os.getenv(\"MINIO_ROOT_PASSWORD\"))\n",
    "        .getOrCreate()\n",
    "    )\n",
    "    return spark\n",
    "\n",
    "spark = create_spark_session()"
   ]
  },
  {
   "cell_type": "code",
   "execution_count": 2,
   "id": "0723a348-9702-4ca8-866d-7544a9a96471",
   "metadata": {
    "tags": []
   },
   "outputs": [],
   "source": [
    "# Leia as tabelas Silver necessárias\n",
    "df_match_silver = spark.read.format(\"delta\").load(\"s3a://bucket-silver-zone/soccer/match/\")\n",
    "df_league_silver = spark.read.format(\"delta\").load(\"s3a://bucket-silver-zone/soccer/league/\")"
   ]
  },
  {
   "cell_type": "code",
   "execution_count": 4,
   "id": "f17d6913-c577-4214-81bd-019034c218de",
   "metadata": {
    "tags": []
   },
   "outputs": [],
   "source": [
    "# Tabela gold_goals_by_league\n",
    "# Objetivo: Agregar gols por liga, país e temporada, com métricas como média de gols por partida.\n",
    "\n",
    "df_goals_by_league = (\n",
    "    df_match_silver\n",
    "    .groupBy(\"country_name\", \"league_name\", \"season\")\n",
    "    .agg(\n",
    "        sum(\"total_goals\").alias(\"total_goals\"),\n",
    "        count(\"match_id\").alias(\"total_matches\"),\n",
    "        round(sum(\"total_goals\") / count(\"match_id\"), 2).alias(\"avg_goals_per_match\")\n",
    "    )\n",
    "    .orderBy(desc(\"avg_goals_per_match\"))  # Ligas com mais gols\n",
    ")\n",
    "\n",
    "# Salvar como Delta Lake\n",
    "(\n",
    "    df_goals_by_league\n",
    "    .write\n",
    "    .format(\"delta\")\n",
    "    .mode(\"overwrite\")\n",
    "    .save(\"s3a://bucket-gold-zone/soccer/goals_by_league/\")\n",
    ")"
   ]
  },
  {
   "cell_type": "code",
   "execution_count": 8,
   "id": "b6593f47-357c-4660-bfbd-0efdf08274e5",
   "metadata": {
    "tags": []
   },
   "outputs": [],
   "source": [
    "# Tabela gold_goals_by_country\n",
    "# Objetivo: Agregar gols por país (consolidando todas as ligas de um país).\n",
    "\n",
    "df_goals_by_country = (\n",
    "    df_match_silver\n",
    "    .groupBy(\"country_name\", \"season\")\n",
    "    .agg(\n",
    "        sum(\"total_goals\").alias(\"total_goals\"),\n",
    "        count(\"match_id\").alias(\"total_matches\"),\n",
    "        round(sum(\"total_goals\") / count(\"match_id\"), 2).alias(\"avg_goals_per_match\")\n",
    "    )\n",
    "    .orderBy(desc(\"avg_goals_per_match\"))  # Países com mais gols por partida\n",
    ")\n",
    "\n",
    "# Salvar como Delta Lake\n",
    "(\n",
    "    df_goals_by_country\n",
    "    .write\n",
    "    .format(\"delta\")\n",
    "    .mode(\"overwrite\")\n",
    "    .save(\"s3a://bucket-gold-zone/soccer/goals_by_country/\")\n",
    ")"
   ]
  },
  {
   "cell_type": "code",
   "execution_count": 7,
   "id": "0e55dae6-9a0e-42f5-a8ea-a81c139c2572",
   "metadata": {
    "tags": []
   },
   "outputs": [],
   "source": [
    "# Tabela gold_top_leagues\n",
    "# Objetivo: Destacar as top 5 ligas com mais gols em todas as temporadas.\n",
    "\n",
    "window_spec = Window.partitionBy(\"season\").orderBy(desc(\"avg_goals_per_match\"))\n",
    "\n",
    "df_top_leagues = (\n",
    "    df_goals_by_league\n",
    "    .withColumn(\"rank\", rank().over(window_spec))\n",
    "    .filter(col(\"rank\") <= 5)  # Top 5\n",
    "    .select(\"country_name\", \"league_name\", \"season\", \"avg_goals_per_match\", \"rank\")\n",
    ")\n",
    "\n",
    "# Salvar como Delta Lake\n",
    "(\n",
    "    df_top_leagues\n",
    "    .write\n",
    "    .format(\"delta\")\n",
    "    .mode(\"overwrite\")\n",
    "    .save(\"s3a://bucket-gold-zone/soccer/top_leagues/\")\n",
    ")"
   ]
  }
 ],
 "metadata": {
  "kernelspec": {
   "display_name": "Python 3 (ipykernel)",
   "language": "python",
   "name": "python3"
  },
  "language_info": {
   "codemirror_mode": {
    "name": "ipython",
    "version": 3
   },
   "file_extension": ".py",
   "mimetype": "text/x-python",
   "name": "python",
   "nbconvert_exporter": "python",
   "pygments_lexer": "ipython3",
   "version": "3.10.5"
  }
 },
 "nbformat": 4,
 "nbformat_minor": 5
}
