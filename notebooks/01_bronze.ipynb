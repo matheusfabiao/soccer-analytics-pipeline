{
 "cells": [
  {
   "cell_type": "code",
   "execution_count": 1,
   "id": "b27cedc2",
   "metadata": {
    "tags": []
   },
   "outputs": [],
   "source": [
    "import os\n",
    "\n",
    "from pyspark.sql import SparkSession\n",
    "\n",
    "\n",
    "# Criar uma sessão no spark\n",
    "def create_spark_session() -> SparkSession:\n",
    "    spark = (\n",
    "        SparkSession.builder.appName('Dual Storage Integration Delta')\n",
    "        .enableHiveSupport()\n",
    "        .config(\n",
    "            'spark.sql.extensions', 'io.delta.sql.DeltaSparkSessionExtension'\n",
    "        )\n",
    "        .config(\n",
    "            'spark.sql.catalog.spark_catalog',\n",
    "            'org.apache.spark.sql.delta.catalog.DeltaCatalog',\n",
    "        )\n",
    "        .config(\n",
    "            'spark.hadoop.fs.s3a.impl',\n",
    "            'org.apache.hadoop.fs.s3a.S3AFileSystem',\n",
    "        )\n",
    "        .config(\n",
    "            'spark.hadoop.fs.s3minio.impl',\n",
    "            'org.apache.hadoop.fs.s3a.S3AFileSystem',\n",
    "        )\n",
    "        .getOrCreate()\n",
    "    )\n",
    "    return spark\n",
    "\n",
    "\n",
    "spark = create_spark_session()"
   ]
  },
  {
   "cell_type": "code",
   "execution_count": 2,
   "id": "584e7f1f-56f5-4880-a4ab-fa4e63cf1bee",
   "metadata": {
    "tags": []
   },
   "outputs": [],
   "source": [
    "# Configurações para AWS S3 (leitura)\n",
    "s3_options = {\n",
    "    'fs.s3a.access.key': os.getenv('AWS_ACCESS_KEY_ID'),\n",
    "    'fs.s3a.secret.key': os.getenv('AWS_SECRET_ACCESS_KEY'),\n",
    "    'fs.s3a.endpoint': os.getenv('AWS_ENDPOINT'),\n",
    "    'fs.s3a.region': os.getenv('AWS_REGION'),\n",
    "    'fs.s3a.path.style.access': 'false',\n",
    "}\n",
    "\n",
    "# Configurações para MinIO (escrita como Delta)\n",
    "minio_delta_options = {\n",
    "    'fs.s3a.access.key': os.getenv('MINIO_ROOT_USER'),\n",
    "    'fs.s3a.secret.key': os.getenv('MINIO_ROOT_PASSWORD'),\n",
    "    'fs.s3a.endpoint': os.getenv('MINIO_ENDPOINT'),\n",
    "    'fs.s3a.path.style.access': 'true',\n",
    "    'fs.s3a.connection.ssl.enabled': 'false',\n",
    "}"
   ]
  },
  {
   "cell_type": "code",
   "execution_count": 3,
   "id": "83d4aa9c",
   "metadata": {
    "tags": []
   },
   "outputs": [
    {
     "name": "stdout",
     "output_type": "stream",
     "text": [
      "+--------------------+---------------------+--------------+----------------------+-----+--------------------+----------+\n",
      "|     _airbyte_raw_id|_airbyte_extracted_at| _airbyte_meta|_airbyte_generation_id|   id|                name|country_id|\n",
      "+--------------------+---------------------+--------------+----------------------+-----+--------------------+----------+\n",
      "|9202d4ef-8836-419...| 2025-05-08 03:17:...|{35826647, []}|                     3|    1|Belgium Jupiler L...|         1|\n",
      "|e3a53785-5171-442...| 2025-05-08 03:17:...|{35826647, []}|                     3| 1729|England Premier L...|      1729|\n",
      "|5cd88425-2ebf-40f...| 2025-05-08 03:17:...|{35826647, []}|                     3| 4769|      France Ligue 1|      4769|\n",
      "|c23131b2-e6ab-4a8...| 2025-05-08 03:17:...|{35826647, []}|                     3| 7809|Germany 1. Bundes...|      7809|\n",
      "|01dd48c8-f68b-490...| 2025-05-08 03:17:...|{35826647, []}|                     3|10257|       Italy Serie A|     10257|\n",
      "|0b766c8f-d617-4d4...| 2025-05-08 03:17:...|{35826647, []}|                     3|13274|Netherlands Eredi...|     13274|\n",
      "|013eb667-9707-4cb...| 2025-05-08 03:17:...|{35826647, []}|                     3|15722|  Poland Ekstraklasa|     15722|\n",
      "|3b08116b-fa85-4ac...| 2025-05-08 03:17:...|{35826647, []}|                     3|17642|Portugal Liga ZON...|     17642|\n",
      "|3896d28e-38a3-4ed...| 2025-05-08 03:17:...|{35826647, []}|                     3|19694|Scotland Premier ...|     19694|\n",
      "|c7c98352-43a8-4cb...| 2025-05-08 03:17:...|{35826647, []}|                     3|21518|     Spain LIGA BBVA|     21518|\n",
      "|3b98cbeb-fba6-4d9...| 2025-05-08 03:17:...|{35826647, []}|                     3|24558|Switzerland Super...|     24558|\n",
      "+--------------------+---------------------+--------------+----------------------+-----+--------------------+----------+\n",
      "\n",
      "Tabela Delta gravada com sucesso no MinIO!\n"
     ]
    }
   ],
   "source": [
    "# Ingerir a tabela 'league'\n",
    "df_league = (\n",
    "    spark.read.format('parquet')\n",
    "    .options(**s3_options)\n",
    "    .load('s3a://dev-lab-02-us-east-2-landing/soccer/league/')\n",
    ")\n",
    "\n",
    "df_league.show()\n",
    "\n",
    "\n",
    "# Salvar como Delta Lake no MinIO\n",
    "(\n",
    "    df_league.write.format('delta')\n",
    "    .options(**minio_delta_options)\n",
    "    .mode('overwrite')\n",
    "    .save('s3a://bucket-bronze-zone/soccer/league/')\n",
    ")\n",
    "\n",
    "print('Tabela Delta gravada com sucesso no MinIO!')"
   ]
  },
  {
   "cell_type": "code",
   "execution_count": 4,
   "id": "f20eae24-ee41-472d-9345-4858625de172",
   "metadata": {
    "tags": []
   },
   "outputs": [
    {
     "name": "stdout",
     "output_type": "stream",
     "text": [
      "+--------------------+---------------------+--------------+----------------------+----+-----------+--------------------+---------------+----------------+\n",
      "|     _airbyte_raw_id|_airbyte_extracted_at| _airbyte_meta|_airbyte_generation_id|  id|team_api_id|      team_long_name|team_short_name|team_fifa_api_id|\n",
      "+--------------------+---------------------+--------------+----------------------+----+-----------+--------------------+---------------+----------------+\n",
      "|8a375502-f6f7-4d6...| 2025-05-08 03:17:...|{35826647, []}|                     3|   1|       9987|            KRC Genk|            GEN|             673|\n",
      "|adbef74f-106b-415...| 2025-05-08 03:17:...|{35826647, []}|                     3|   2|       9993|        Beerschot AC|            BAC|             675|\n",
      "|e657504f-87c7-459...| 2025-05-08 03:17:...|{35826647, []}|                     3|   3|      10000|    SV Zulte-Waregem|            ZUL|           15005|\n",
      "|8484e9ec-4f55-473...| 2025-05-08 03:17:...|{35826647, []}|                     3|   4|       9994|    Sporting Lokeren|            LOK|            2007|\n",
      "|d29d0f42-8173-45c...| 2025-05-08 03:17:...|{35826647, []}|                     3|   5|       9984|   KSV Cercle Brugge|            CEB|            1750|\n",
      "|803e8d5a-9ec5-4ff...| 2025-05-08 03:17:...|{35826647, []}|                     3|   6|       8635|      RSC Anderlecht|            AND|             229|\n",
      "|8cbc6b53-2510-465...| 2025-05-08 03:17:...|{35826647, []}|                     3|   7|       9991|            KAA Gent|            GEN|             674|\n",
      "|2a7f3a39-b698-491...| 2025-05-08 03:17:...|{35826647, []}|                     3|   8|       9998|           RAEC Mons|            MON|            1747|\n",
      "|9d3c9d82-78bc-44e...| 2025-05-08 03:17:...|{35826647, []}|                     3|   9|       7947|       FCV Dender EH|            DEN|            null|\n",
      "|fc89ed8e-3b51-4aa...| 2025-05-08 03:17:...|{35826647, []}|                     3|  10|       9985|   Standard de Liège|            STL|             232|\n",
      "|03bde859-bae1-4c9...| 2025-05-08 03:17:...|{35826647, []}|                     3|  11|       8203|         KV Mechelen|            MEC|          110724|\n",
      "|67cc5e9e-a39e-4e7...| 2025-05-08 03:17:...|{35826647, []}|                     3|  12|       8342|      Club Brugge KV|            CLB|             231|\n",
      "|9d336ce4-6cd1-4ac...| 2025-05-08 03:17:...|{35826647, []}|                     3|  13|       9999|       KSV Roeselare|            ROS|             546|\n",
      "|bf79fff2-32aa-430...| 2025-05-08 03:17:...|{35826647, []}|                     3|  14|       8571|         KV Kortrijk|            KOR|          100081|\n",
      "|d5cda1c4-1c0d-41e...| 2025-05-08 03:17:...|{35826647, []}|                     3|  15|       4049|              Tubize|            TUB|            null|\n",
      "|cec20ac6-6de8-4b6...| 2025-05-08 03:17:...|{35826647, []}|                     3|  16|       9996|Royal Excel Mouscron|            MOU|          111560|\n",
      "|8d48c397-43d7-469...| 2025-05-08 03:17:...|{35826647, []}|                     3|  17|      10001|        KVC Westerlo|            WES|             681|\n",
      "|698a7b9f-a20b-443...| 2025-05-08 03:17:...|{35826647, []}|                     3|  18|       9986|  Sporting Charleroi|            CHA|             670|\n",
      "|b03df9a9-7d9b-425...| 2025-05-08 03:17:...|{35826647, []}|                     3| 614|       9997|   Sint-Truidense VV|            STT|             680|\n",
      "|f6b14cc2-eb10-453...| 2025-05-08 03:17:...|{35826647, []}|                     3|1034|       9989|           Lierse SK|            LIE|             239|\n",
      "+--------------------+---------------------+--------------+----------------------+----+-----------+--------------------+---------------+----------------+\n",
      "only showing top 20 rows\n",
      "\n",
      "Tabela 'team' gravada como Delta no MinIO!\n"
     ]
    }
   ],
   "source": [
    "# Ingerir a tabela 'team' do S3\n",
    "df_team = (\n",
    "    spark.read.format('parquet')\n",
    "    .options(**s3_options)\n",
    "    .load('s3a://dev-lab-02-us-east-2-landing/soccer/team/')\n",
    ")\n",
    "\n",
    "df_team.show()\n",
    "\n",
    "# Escrever no MinIO como Delta Lake\n",
    "(\n",
    "    df_team.write.format('delta')\n",
    "    .options(**minio_delta_options)\n",
    "    .mode('overwrite')\n",
    "    .save('s3a://bucket-bronze-zone/soccer/team/')\n",
    ")\n",
    "\n",
    "print(\"Tabela 'team' gravada como Delta no MinIO!\")"
   ]
  },
  {
   "cell_type": "code",
   "execution_count": 5,
   "id": "da13dc17-99e8-4cd7-b89d-75c5499c0d6f",
   "metadata": {
    "tags": []
   },
   "outputs": [
    {
     "name": "stdout",
     "output_type": "stream",
     "text": [
      "Tabela 'match' gravada como Delta no MinIO!\n"
     ]
    }
   ],
   "source": [
    "# Ingerir a tabela 'match'\n",
    "df_match = (\n",
    "    spark.read.format('parquet')\n",
    "    .options(**s3_options)\n",
    "    .load(\n",
    "        's3a://dev-lab-02-us-east-2-landing/soccer/Match/'\n",
    "    )  # AWS: 'Match' maiúsculo\n",
    ")\n",
    "\n",
    "# df_match.show()\n",
    "\n",
    "# Escrever no MinIO como Delta Lake\n",
    "(\n",
    "    df_match.write.format('delta')\n",
    "    .options(**minio_delta_options)\n",
    "    .mode('overwrite')\n",
    "    .save('s3a://bucket-bronze-zone/soccer/match/')  # MinIO: 'match' minúsculo\n",
    ")\n",
    "\n",
    "print(\"Tabela 'match' gravada como Delta no MinIO!\")"
   ]
  },
  {
   "cell_type": "code",
   "execution_count": 6,
   "id": "36cb2336-2e14-4ab2-b967-9e2affb80ed8",
   "metadata": {
    "tags": []
   },
   "outputs": [
    {
     "name": "stdout",
     "output_type": "stream",
     "text": [
      "+--------------------+---------------------+--------------+----------------------+-----+-----------+\n",
      "|     _airbyte_raw_id|_airbyte_extracted_at| _airbyte_meta|_airbyte_generation_id|   id|       name|\n",
      "+--------------------+---------------------+--------------+----------------------+-----+-----------+\n",
      "|3997cb97-814b-493...| 2025-05-08 03:17:...|{35826647, []}|                     4|    1|    Belgium|\n",
      "|9f37e0c6-6aa7-40c...| 2025-05-08 03:17:...|{35826647, []}|                     4| 1729|    England|\n",
      "|67ddf5ae-ab61-47d...| 2025-05-08 03:17:...|{35826647, []}|                     4| 4769|     France|\n",
      "|67c03fff-a286-4e8...| 2025-05-08 03:17:...|{35826647, []}|                     4| 7809|    Germany|\n",
      "|f0cd3462-374e-451...| 2025-05-08 03:17:...|{35826647, []}|                     4|10257|      Italy|\n",
      "|b38d15a4-e45c-4f1...| 2025-05-08 03:17:...|{35826647, []}|                     4|13274|Netherlands|\n",
      "|f03825e5-170e-40d...| 2025-05-08 03:17:...|{35826647, []}|                     4|15722|     Poland|\n",
      "|39639963-fd50-4d0...| 2025-05-08 03:17:...|{35826647, []}|                     4|17642|   Portugal|\n",
      "|a80936f5-7ee3-420...| 2025-05-08 03:17:...|{35826647, []}|                     4|19694|   Scotland|\n",
      "|b30fc0e1-b7f8-49a...| 2025-05-08 03:17:...|{35826647, []}|                     4|21518|      Spain|\n",
      "|2995e017-3380-4d1...| 2025-05-08 03:17:...|{35826647, []}|                     4|24558|Switzerland|\n",
      "+--------------------+---------------------+--------------+----------------------+-----+-----------+\n",
      "\n",
      "Tabela 'country' gravada como Delta no MinIO!\n"
     ]
    }
   ],
   "source": [
    "# Ingerir a tabela 'country'\n",
    "df_country = (\n",
    "    spark.read.format('parquet')\n",
    "    .options(**s3_options)\n",
    "    .load('s3a://dev-lab-02-us-east-2-landing/soccer/country/')\n",
    ")\n",
    "\n",
    "df_country.show()\n",
    "\n",
    "# Escreva no MinIO como Delta Lake\n",
    "(\n",
    "    df_country.write.format('delta')\n",
    "    .options(**minio_delta_options)\n",
    "    .mode('overwrite')\n",
    "    .save('s3a://bucket-bronze-zone/soccer/country/')\n",
    ")\n",
    "\n",
    "print(\"Tabela 'country' gravada como Delta no MinIO!\")\n",
    "\n",
    "# Encerrar a sessão do Spark\n",
    "spark.stop()"
   ]
  }
 ],
 "metadata": {
  "kernelspec": {
   "display_name": "Python 3 (ipykernel)",
   "language": "python",
   "name": "python3"
  },
  "language_info": {
   "codemirror_mode": {
    "name": "ipython",
    "version": 3
   },
   "file_extension": ".py",
   "mimetype": "text/x-python",
   "name": "python",
   "nbconvert_exporter": "python",
   "pygments_lexer": "ipython3",
   "version": "3.10.5"
  }
 },
 "nbformat": 4,
 "nbformat_minor": 5
}
