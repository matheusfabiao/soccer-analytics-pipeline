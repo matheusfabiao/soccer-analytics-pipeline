{
 "cells": [
  {
   "cell_type": "code",
   "execution_count": null,
   "id": "b27cedc2",
   "metadata": {
    "tags": []
   },
   "outputs": [],
   "source": [
    "import os\n",
    "\n",
    "from pyspark.sql import SparkSession\n",
    "\n",
    "\n",
    "def create_spark_session() -> SparkSession:\n",
    "    spark = (\n",
    "        SparkSession.builder\n",
    "        .appName(\"Dual Storage Integration Delta\")\n",
    "        .enableHiveSupport()\n",
    "        .config(\n",
    "            \"spark.sql.extensions\", \"io.delta.sql.DeltaSparkSessionExtension\"\n",
    "        )\n",
    "        .config(\n",
    "            \"spark.sql.catalog.spark_catalog\",\n",
    "            \"org.apache.spark.sql.delta.catalog.DeltaCatalog\"\n",
    "        )\n",
    "        .config(\n",
    "            \"spark.hadoop.fs.s3a.impl\", \"org.apache.hadoop.fs.s3a.S3AFileSystem\"\n",
    "        )\n",
    "        .config(\n",
    "            \"spark.hadoop.fs.s3minio.impl\", \"org.apache.hadoop.fs.s3a.S3AFileSystem\"\n",
    "        )\n",
    "        .getOrCreate()\n",
    "    )\n",
    "    return spark\n",
    "\n",
    "\n",
    "spark = create_spark_session()\n",
    "\n",
    "# Configurações para AWS S3 (leitura)\n",
    "s3_options = {\n",
    "    \"fs.s3a.access.key\": os.getenv(\"AWS_ACCESS_KEY_ID\"),\n",
    "    \"fs.s3a.secret.key\": os.getenv(\"AWS_SECRET_ACCESS_KEY\"),\n",
    "    \"fs.s3a.endpoint\": os.getenv(\"AWS_ENDPOINT\"),\n",
    "    \"fs.s3a.region\": os.getenv(\"AWS_REGION\"),\n",
    "    \"fs.s3a.path.style.access\": \"false\"\n",
    "}\n",
    "\n",
    "# Configurações para MinIO (escrita como Delta)\n",
    "minio_delta_options = {\n",
    "    \"fs.s3a.access.key\": os.getenv(\"MINIO_ROOT_USER\"),\n",
    "    \"fs.s3a.secret.key\": os.getenv(\"MINIO_ROOT_PASSWORD\"),\n",
    "    \"fs.s3a.endpoint\": os.getenv(\"MINIO_ENDPOINT\"),\n",
    "    \"fs.s3a.path.style.access\": \"true\",\n",
    "    \"fs.s3a.connection.ssl.enabled\": \"false\"\n",
    "}"
   ]
  },
  {
   "cell_type": "code",
   "execution_count": null,
   "id": "83d4aa9c",
   "metadata": {
    "tags": []
   },
   "outputs": [
    {
     "name": "stdout",
     "output_type": "stream",
     "text": [
      "+--------------------+---------------------+--------------+----------------------+-----+--------------------+----------+\n",
      "|     _airbyte_raw_id|_airbyte_extracted_at| _airbyte_meta|_airbyte_generation_id|   id|                name|country_id|\n",
      "+--------------------+---------------------+--------------+----------------------+-----+--------------------+----------+\n",
      "|9202d4ef-8836-419...| 2025-05-08 03:17:...|{35826647, []}|                     3|    1|Belgium Jupiler L...|         1|\n",
      "|e3a53785-5171-442...| 2025-05-08 03:17:...|{35826647, []}|                     3| 1729|England Premier L...|      1729|\n",
      "|5cd88425-2ebf-40f...| 2025-05-08 03:17:...|{35826647, []}|                     3| 4769|      France Ligue 1|      4769|\n",
      "|c23131b2-e6ab-4a8...| 2025-05-08 03:17:...|{35826647, []}|                     3| 7809|Germany 1. Bundes...|      7809|\n",
      "|01dd48c8-f68b-490...| 2025-05-08 03:17:...|{35826647, []}|                     3|10257|       Italy Serie A|     10257|\n",
      "|0b766c8f-d617-4d4...| 2025-05-08 03:17:...|{35826647, []}|                     3|13274|Netherlands Eredi...|     13274|\n",
      "|013eb667-9707-4cb...| 2025-05-08 03:17:...|{35826647, []}|                     3|15722|  Poland Ekstraklasa|     15722|\n",
      "|3b08116b-fa85-4ac...| 2025-05-08 03:17:...|{35826647, []}|                     3|17642|Portugal Liga ZON...|     17642|\n",
      "|3896d28e-38a3-4ed...| 2025-05-08 03:17:...|{35826647, []}|                     3|19694|Scotland Premier ...|     19694|\n",
      "|c7c98352-43a8-4cb...| 2025-05-08 03:17:...|{35826647, []}|                     3|21518|     Spain LIGA BBVA|     21518|\n",
      "|3b98cbeb-fba6-4d9...| 2025-05-08 03:17:...|{35826647, []}|                     3|24558|Switzerland Super...|     24558|\n",
      "+--------------------+---------------------+--------------+----------------------+-----+--------------------+----------+\n",
      "\n",
      "Tabela Delta gravada com sucesso no MinIO!\n"
     ]
    }
   ],
   "source": [
    "# Ingerir a tabela 'league'\n",
    "df = (\n",
    "    spark\n",
    "    .read\n",
    "    .format(\"parquet\")\n",
    "    .options(**s3_options)\n",
    "    .load(\"s3a://dev-lab-02-us-east-2-landing/soccer/league/\")\n",
    ")\n",
    "\n",
    "df.show()\n",
    "\n",
    "\n",
    "(\n",
    "    df\n",
    "    .write\n",
    "    .format(\"delta\")\n",
    "    .options(**minio_delta_options)\n",
    "    .mode(\"overwrite\")\n",
    "    .save(\"s3a://bucket-bronze-zone/soccer/league/\")\n",
    ")\n",
    "\n",
    "print(\"Tabela Delta gravada com sucesso no MinIO!\")\n",
    "\n",
    "spark.stop()"
   ]
  },
  {
   "cell_type": "code",
   "execution_count": null,
   "id": "f20eae24-ee41-472d-9345-4858625de172",
   "metadata": {
    "tags": []
   },
   "outputs": [
    {
     "name": "stdout",
     "output_type": "stream",
     "text": [
      "+--------------------+---------------------+--------------+----------------------+----+-----------+--------------------+---------------+----------------+\n",
      "|     _airbyte_raw_id|_airbyte_extracted_at| _airbyte_meta|_airbyte_generation_id|  id|team_api_id|      team_long_name|team_short_name|team_fifa_api_id|\n",
      "+--------------------+---------------------+--------------+----------------------+----+-----------+--------------------+---------------+----------------+\n",
      "|8a375502-f6f7-4d6...| 2025-05-08 03:17:...|{35826647, []}|                     3|   1|       9987|            KRC Genk|            GEN|             673|\n",
      "|adbef74f-106b-415...| 2025-05-08 03:17:...|{35826647, []}|                     3|   2|       9993|        Beerschot AC|            BAC|             675|\n",
      "|e657504f-87c7-459...| 2025-05-08 03:17:...|{35826647, []}|                     3|   3|      10000|    SV Zulte-Waregem|            ZUL|           15005|\n",
      "|8484e9ec-4f55-473...| 2025-05-08 03:17:...|{35826647, []}|                     3|   4|       9994|    Sporting Lokeren|            LOK|            2007|\n",
      "|d29d0f42-8173-45c...| 2025-05-08 03:17:...|{35826647, []}|                     3|   5|       9984|   KSV Cercle Brugge|            CEB|            1750|\n",
      "|803e8d5a-9ec5-4ff...| 2025-05-08 03:17:...|{35826647, []}|                     3|   6|       8635|      RSC Anderlecht|            AND|             229|\n",
      "|8cbc6b53-2510-465...| 2025-05-08 03:17:...|{35826647, []}|                     3|   7|       9991|            KAA Gent|            GEN|             674|\n",
      "|2a7f3a39-b698-491...| 2025-05-08 03:17:...|{35826647, []}|                     3|   8|       9998|           RAEC Mons|            MON|            1747|\n",
      "|9d3c9d82-78bc-44e...| 2025-05-08 03:17:...|{35826647, []}|                     3|   9|       7947|       FCV Dender EH|            DEN|            null|\n",
      "|fc89ed8e-3b51-4aa...| 2025-05-08 03:17:...|{35826647, []}|                     3|  10|       9985|   Standard de Liège|            STL|             232|\n",
      "|03bde859-bae1-4c9...| 2025-05-08 03:17:...|{35826647, []}|                     3|  11|       8203|         KV Mechelen|            MEC|          110724|\n",
      "|67cc5e9e-a39e-4e7...| 2025-05-08 03:17:...|{35826647, []}|                     3|  12|       8342|      Club Brugge KV|            CLB|             231|\n",
      "|9d336ce4-6cd1-4ac...| 2025-05-08 03:17:...|{35826647, []}|                     3|  13|       9999|       KSV Roeselare|            ROS|             546|\n",
      "|bf79fff2-32aa-430...| 2025-05-08 03:17:...|{35826647, []}|                     3|  14|       8571|         KV Kortrijk|            KOR|          100081|\n",
      "|d5cda1c4-1c0d-41e...| 2025-05-08 03:17:...|{35826647, []}|                     3|  15|       4049|              Tubize|            TUB|            null|\n",
      "|cec20ac6-6de8-4b6...| 2025-05-08 03:17:...|{35826647, []}|                     3|  16|       9996|Royal Excel Mouscron|            MOU|          111560|\n",
      "|8d48c397-43d7-469...| 2025-05-08 03:17:...|{35826647, []}|                     3|  17|      10001|        KVC Westerlo|            WES|             681|\n",
      "|698a7b9f-a20b-443...| 2025-05-08 03:17:...|{35826647, []}|                     3|  18|       9986|  Sporting Charleroi|            CHA|             670|\n",
      "|b03df9a9-7d9b-425...| 2025-05-08 03:17:...|{35826647, []}|                     3| 614|       9997|   Sint-Truidense VV|            STT|             680|\n",
      "|f6b14cc2-eb10-453...| 2025-05-08 03:17:...|{35826647, []}|                     3|1034|       9989|           Lierse SK|            LIE|             239|\n",
      "+--------------------+---------------------+--------------+----------------------+----+-----------+--------------------+---------------+----------------+\n",
      "only showing top 20 rows\n",
      "\n",
      "Tabela 'team' gravada como Delta no MinIO!\n"
     ]
    }
   ],
   "source": [
    "# Ingerir a tabela 'team'\n",
    "df_team = (\n",
    "    spark\n",
    "    .read\n",
    "    .format(\"parquet\")\n",
    "    .options(**s3_options)\n",
    "    .load(\"s3a://dev-lab-02-us-east-2-landing/soccer/team/\")  # Caminho no bucket de origem\n",
    ")\n",
    "\n",
    "df_team.show()\n",
    "\n",
    "# Escreve no MinIO como Delta Lake\n",
    "(\n",
    "    df_team\n",
    "    .write\n",
    "    .format(\"delta\")\n",
    "    .options(**minio_delta_options)\n",
    "    .mode(\"overwrite\")\n",
    "    .save(\"s3a://bucket-bronze-zone/soccer/team/\")  # Caminho no MinIO\n",
    ")\n",
    "\n",
    "print(\"Tabela 'team' gravada como Delta no MinIO!\")"
   ]
  },
  {
   "cell_type": "code",
   "execution_count": 5,
   "id": "da13dc17-99e8-4cd7-b89d-75c5499c0d6f",
   "metadata": {
    "tags": []
   },
   "outputs": [
    {
     "name": "stderr",
     "output_type": "stream",
     "text": [
      "ERROR:root:KeyboardInterrupt while sending command.\n",
      "Traceback (most recent call last):\n",
      "  File \"/usr/local/spark/python/lib/py4j-0.10.9.3-src.zip/py4j/java_gateway.py\", line 1038, in send_command\n",
      "    response = connection.send_command(command)\n",
      "  File \"/usr/local/spark/python/lib/py4j-0.10.9.3-src.zip/py4j/clientserver.py\", line 475, in send_command\n",
      "    answer = smart_decode(self.stream.readline()[:-1])\n",
      "  File \"/opt/conda/lib/python3.10/socket.py\", line 705, in readinto\n",
      "    return self._sock.recv_into(b)\n",
      "KeyboardInterrupt\n"
     ]
    },
    {
     "ename": "KeyboardInterrupt",
     "evalue": "",
     "output_type": "error",
     "traceback": [
      "\u001b[0;31m---------------------------------------------------------------------------\u001b[0m",
      "\u001b[0;31mKeyboardInterrupt\u001b[0m                         Traceback (most recent call last)",
      "Input \u001b[0;32mIn [5]\u001b[0m, in \u001b[0;36m<cell line: 14>\u001b[0;34m()\u001b[0m\n\u001b[1;32m      2\u001b[0m df_match \u001b[38;5;241m=\u001b[39m (\n\u001b[1;32m      3\u001b[0m     spark\n\u001b[1;32m      4\u001b[0m     \u001b[38;5;241m.\u001b[39mread\n\u001b[0;32m   (...)\u001b[0m\n\u001b[1;32m      7\u001b[0m     \u001b[38;5;241m.\u001b[39mload(\u001b[38;5;124m\"\u001b[39m\u001b[38;5;124ms3a://dev-lab-02-us-east-2-landing/soccer/Match/\u001b[39m\u001b[38;5;124m\"\u001b[39m)  \u001b[38;5;66;03m# Na AWS, o nome está maiúsculo\u001b[39;00m\n\u001b[1;32m      8\u001b[0m )\n\u001b[1;32m     10\u001b[0m \u001b[38;5;66;03m# df_match.show()\u001b[39;00m\n\u001b[1;32m     11\u001b[0m \n\u001b[1;32m     12\u001b[0m \u001b[38;5;66;03m# Escreva no MinIO como Delta Lake\u001b[39;00m\n\u001b[1;32m     13\u001b[0m (\n\u001b[1;32m     14\u001b[0m     \u001b[43mdf_match\u001b[49m\n\u001b[1;32m     15\u001b[0m \u001b[43m    \u001b[49m\u001b[38;5;241;43m.\u001b[39;49m\u001b[43mwrite\u001b[49m\n\u001b[1;32m     16\u001b[0m \u001b[43m    \u001b[49m\u001b[38;5;241;43m.\u001b[39;49m\u001b[43mformat\u001b[49m\u001b[43m(\u001b[49m\u001b[38;5;124;43m\"\u001b[39;49m\u001b[38;5;124;43mdelta\u001b[39;49m\u001b[38;5;124;43m\"\u001b[39;49m\u001b[43m)\u001b[49m\n\u001b[1;32m     17\u001b[0m \u001b[43m    \u001b[49m\u001b[38;5;241;43m.\u001b[39;49m\u001b[43moptions\u001b[49m\u001b[43m(\u001b[49m\u001b[38;5;241;43m*\u001b[39;49m\u001b[38;5;241;43m*\u001b[39;49m\u001b[43mminio_delta_options\u001b[49m\u001b[43m)\u001b[49m\n\u001b[1;32m     18\u001b[0m \u001b[43m    \u001b[49m\u001b[38;5;241;43m.\u001b[39;49m\u001b[43mmode\u001b[49m\u001b[43m(\u001b[49m\u001b[38;5;124;43m\"\u001b[39;49m\u001b[38;5;124;43moverwrite\u001b[39;49m\u001b[38;5;124;43m\"\u001b[39;49m\u001b[43m)\u001b[49m\n\u001b[0;32m---> 19\u001b[0m \u001b[43m    \u001b[49m\u001b[38;5;241;43m.\u001b[39;49m\u001b[43msave\u001b[49m\u001b[43m(\u001b[49m\u001b[38;5;124;43m\"\u001b[39;49m\u001b[38;5;124;43ms3a://bucket-bronze-zone/soccer/match/\u001b[39;49m\u001b[38;5;124;43m\"\u001b[39;49m\u001b[43m)\u001b[49m  \u001b[38;5;66;03m# No minIO, o nome é minúsculo\u001b[39;00m\n\u001b[1;32m     20\u001b[0m )\n\u001b[1;32m     22\u001b[0m \u001b[38;5;28mprint\u001b[39m(\u001b[38;5;124m\"\u001b[39m\u001b[38;5;124mTabela \u001b[39m\u001b[38;5;124m'\u001b[39m\u001b[38;5;124mmatch\u001b[39m\u001b[38;5;124m'\u001b[39m\u001b[38;5;124m gravada como Delta no MinIO!\u001b[39m\u001b[38;5;124m\"\u001b[39m)\n",
      "File \u001b[0;32m/usr/local/spark/python/pyspark/sql/readwriter.py:740\u001b[0m, in \u001b[0;36mDataFrameWriter.save\u001b[0;34m(self, path, format, mode, partitionBy, **options)\u001b[0m\n\u001b[1;32m    738\u001b[0m     \u001b[38;5;28mself\u001b[39m\u001b[38;5;241m.\u001b[39m_jwrite\u001b[38;5;241m.\u001b[39msave()\n\u001b[1;32m    739\u001b[0m \u001b[38;5;28;01melse\u001b[39;00m:\n\u001b[0;32m--> 740\u001b[0m     \u001b[38;5;28;43mself\u001b[39;49m\u001b[38;5;241;43m.\u001b[39;49m\u001b[43m_jwrite\u001b[49m\u001b[38;5;241;43m.\u001b[39;49m\u001b[43msave\u001b[49m\u001b[43m(\u001b[49m\u001b[43mpath\u001b[49m\u001b[43m)\u001b[49m\n",
      "File \u001b[0;32m/usr/local/spark/python/lib/py4j-0.10.9.3-src.zip/py4j/java_gateway.py:1320\u001b[0m, in \u001b[0;36mJavaMember.__call__\u001b[0;34m(self, *args)\u001b[0m\n\u001b[1;32m   1313\u001b[0m args_command, temp_args \u001b[38;5;241m=\u001b[39m \u001b[38;5;28mself\u001b[39m\u001b[38;5;241m.\u001b[39m_build_args(\u001b[38;5;241m*\u001b[39margs)\n\u001b[1;32m   1315\u001b[0m command \u001b[38;5;241m=\u001b[39m proto\u001b[38;5;241m.\u001b[39mCALL_COMMAND_NAME \u001b[38;5;241m+\u001b[39m\\\n\u001b[1;32m   1316\u001b[0m     \u001b[38;5;28mself\u001b[39m\u001b[38;5;241m.\u001b[39mcommand_header \u001b[38;5;241m+\u001b[39m\\\n\u001b[1;32m   1317\u001b[0m     args_command \u001b[38;5;241m+\u001b[39m\\\n\u001b[1;32m   1318\u001b[0m     proto\u001b[38;5;241m.\u001b[39mEND_COMMAND_PART\n\u001b[0;32m-> 1320\u001b[0m answer \u001b[38;5;241m=\u001b[39m \u001b[38;5;28;43mself\u001b[39;49m\u001b[38;5;241;43m.\u001b[39;49m\u001b[43mgateway_client\u001b[49m\u001b[38;5;241;43m.\u001b[39;49m\u001b[43msend_command\u001b[49m\u001b[43m(\u001b[49m\u001b[43mcommand\u001b[49m\u001b[43m)\u001b[49m\n\u001b[1;32m   1321\u001b[0m return_value \u001b[38;5;241m=\u001b[39m get_return_value(\n\u001b[1;32m   1322\u001b[0m     answer, \u001b[38;5;28mself\u001b[39m\u001b[38;5;241m.\u001b[39mgateway_client, \u001b[38;5;28mself\u001b[39m\u001b[38;5;241m.\u001b[39mtarget_id, \u001b[38;5;28mself\u001b[39m\u001b[38;5;241m.\u001b[39mname)\n\u001b[1;32m   1324\u001b[0m \u001b[38;5;28;01mfor\u001b[39;00m temp_arg \u001b[38;5;129;01min\u001b[39;00m temp_args:\n",
      "File \u001b[0;32m/usr/local/spark/python/lib/py4j-0.10.9.3-src.zip/py4j/java_gateway.py:1038\u001b[0m, in \u001b[0;36mGatewayClient.send_command\u001b[0;34m(self, command, retry, binary)\u001b[0m\n\u001b[1;32m   1036\u001b[0m connection \u001b[38;5;241m=\u001b[39m \u001b[38;5;28mself\u001b[39m\u001b[38;5;241m.\u001b[39m_get_connection()\n\u001b[1;32m   1037\u001b[0m \u001b[38;5;28;01mtry\u001b[39;00m:\n\u001b[0;32m-> 1038\u001b[0m     response \u001b[38;5;241m=\u001b[39m \u001b[43mconnection\u001b[49m\u001b[38;5;241;43m.\u001b[39;49m\u001b[43msend_command\u001b[49m\u001b[43m(\u001b[49m\u001b[43mcommand\u001b[49m\u001b[43m)\u001b[49m\n\u001b[1;32m   1039\u001b[0m     \u001b[38;5;28;01mif\u001b[39;00m binary:\n\u001b[1;32m   1040\u001b[0m         \u001b[38;5;28;01mreturn\u001b[39;00m response, \u001b[38;5;28mself\u001b[39m\u001b[38;5;241m.\u001b[39m_create_connection_guard(connection)\n",
      "File \u001b[0;32m/usr/local/spark/python/lib/py4j-0.10.9.3-src.zip/py4j/clientserver.py:475\u001b[0m, in \u001b[0;36mClientServerConnection.send_command\u001b[0;34m(self, command)\u001b[0m\n\u001b[1;32m    473\u001b[0m \u001b[38;5;28;01mtry\u001b[39;00m:\n\u001b[1;32m    474\u001b[0m     \u001b[38;5;28;01mwhile\u001b[39;00m \u001b[38;5;28;01mTrue\u001b[39;00m:\n\u001b[0;32m--> 475\u001b[0m         answer \u001b[38;5;241m=\u001b[39m smart_decode(\u001b[38;5;28;43mself\u001b[39;49m\u001b[38;5;241;43m.\u001b[39;49m\u001b[43mstream\u001b[49m\u001b[38;5;241;43m.\u001b[39;49m\u001b[43mreadline\u001b[49m\u001b[43m(\u001b[49m\u001b[43m)\u001b[49m[:\u001b[38;5;241m-\u001b[39m\u001b[38;5;241m1\u001b[39m])\n\u001b[1;32m    476\u001b[0m         logger\u001b[38;5;241m.\u001b[39mdebug(\u001b[38;5;124m\"\u001b[39m\u001b[38;5;124mAnswer received: \u001b[39m\u001b[38;5;132;01m{0}\u001b[39;00m\u001b[38;5;124m\"\u001b[39m\u001b[38;5;241m.\u001b[39mformat(answer))\n\u001b[1;32m    477\u001b[0m         \u001b[38;5;66;03m# Happens when a the other end is dead. There might be an empty\u001b[39;00m\n\u001b[1;32m    478\u001b[0m         \u001b[38;5;66;03m# answer before the socket raises an error.\u001b[39;00m\n",
      "File \u001b[0;32m/opt/conda/lib/python3.10/socket.py:705\u001b[0m, in \u001b[0;36mSocketIO.readinto\u001b[0;34m(self, b)\u001b[0m\n\u001b[1;32m    703\u001b[0m \u001b[38;5;28;01mwhile\u001b[39;00m \u001b[38;5;28;01mTrue\u001b[39;00m:\n\u001b[1;32m    704\u001b[0m     \u001b[38;5;28;01mtry\u001b[39;00m:\n\u001b[0;32m--> 705\u001b[0m         \u001b[38;5;28;01mreturn\u001b[39;00m \u001b[38;5;28;43mself\u001b[39;49m\u001b[38;5;241;43m.\u001b[39;49m\u001b[43m_sock\u001b[49m\u001b[38;5;241;43m.\u001b[39;49m\u001b[43mrecv_into\u001b[49m\u001b[43m(\u001b[49m\u001b[43mb\u001b[49m\u001b[43m)\u001b[49m\n\u001b[1;32m    706\u001b[0m     \u001b[38;5;28;01mexcept\u001b[39;00m timeout:\n\u001b[1;32m    707\u001b[0m         \u001b[38;5;28mself\u001b[39m\u001b[38;5;241m.\u001b[39m_timeout_occurred \u001b[38;5;241m=\u001b[39m \u001b[38;5;28;01mTrue\u001b[39;00m\n",
      "\u001b[0;31mKeyboardInterrupt\u001b[0m: "
     ]
    }
   ],
   "source": [
    "# Célula adicional para ingerir a tabela 'match'\n",
    "df_match = (\n",
    "    spark\n",
    "    .read\n",
    "    .format(\"parquet\")\n",
    "    .options(**s3_options)\n",
    "    .load(\"s3a://dev-lab-02-us-east-2-landing/soccer/Match/\")  # Na AWS, o nome está maiúsculo\n",
    ")\n",
    "\n",
    "# df_match.show()\n",
    "\n",
    "# Escreva no MinIO como Delta Lake\n",
    "(\n",
    "    df_match\n",
    "    .write\n",
    "    .format(\"delta\")\n",
    "    .options(**minio_delta_options)\n",
    "    .mode(\"overwrite\")\n",
    "    .save(\"s3a://bucket-bronze-zone/soccer/match/\")  # No minIO, o nome é minúsculo\n",
    ")\n",
    "\n",
    "print(\"Tabela 'match' gravada como Delta no MinIO!\")"
   ]
  },
  {
   "cell_type": "code",
   "execution_count": null,
   "id": "36cb2336-2e14-4ab2-b967-9e2affb80ed8",
   "metadata": {
    "tags": []
   },
   "outputs": [
    {
     "name": "stdout",
     "output_type": "stream",
     "text": [
      "+--------------------+---------------------+--------------+----------------------+-----+-----------+\n",
      "|     _airbyte_raw_id|_airbyte_extracted_at| _airbyte_meta|_airbyte_generation_id|   id|       name|\n",
      "+--------------------+---------------------+--------------+----------------------+-----+-----------+\n",
      "|3997cb97-814b-493...| 2025-05-08 03:17:...|{35826647, []}|                     4|    1|    Belgium|\n",
      "|9f37e0c6-6aa7-40c...| 2025-05-08 03:17:...|{35826647, []}|                     4| 1729|    England|\n",
      "|67ddf5ae-ab61-47d...| 2025-05-08 03:17:...|{35826647, []}|                     4| 4769|     France|\n",
      "|67c03fff-a286-4e8...| 2025-05-08 03:17:...|{35826647, []}|                     4| 7809|    Germany|\n",
      "|f0cd3462-374e-451...| 2025-05-08 03:17:...|{35826647, []}|                     4|10257|      Italy|\n",
      "|b38d15a4-e45c-4f1...| 2025-05-08 03:17:...|{35826647, []}|                     4|13274|Netherlands|\n",
      "|f03825e5-170e-40d...| 2025-05-08 03:17:...|{35826647, []}|                     4|15722|     Poland|\n",
      "|39639963-fd50-4d0...| 2025-05-08 03:17:...|{35826647, []}|                     4|17642|   Portugal|\n",
      "|a80936f5-7ee3-420...| 2025-05-08 03:17:...|{35826647, []}|                     4|19694|   Scotland|\n",
      "|b30fc0e1-b7f8-49a...| 2025-05-08 03:17:...|{35826647, []}|                     4|21518|      Spain|\n",
      "|2995e017-3380-4d1...| 2025-05-08 03:17:...|{35826647, []}|                     4|24558|Switzerland|\n",
      "+--------------------+---------------------+--------------+----------------------+-----+-----------+\n",
      "\n",
      "Tabela 'country' gravada como Delta no MinIO!\n"
     ]
    }
   ],
   "source": [
    "# Célula adicional para ingerir a tabela 'country'\n",
    "df_country = (\n",
    "    spark\n",
    "    .read\n",
    "    .format(\"parquet\")\n",
    "    .options(**s3_options)\n",
    "    .load(\"s3a://dev-lab-02-us-east-2-landing/soccer/country/\")  # Caminho no bucket de origem\n",
    ")\n",
    "\n",
    "df_country.show()\n",
    "\n",
    "# Escreva no MinIO como Delta Lake\n",
    "(\n",
    "    df_country\n",
    "    .write\n",
    "    .format(\"delta\")\n",
    "    .options(**minio_delta_options)\n",
    "    .mode(\"overwrite\")\n",
    "    .save(\"s3a://bucket-bronze-zone/soccer/country/\")  # Caminho no MinIO\n",
    ")\n",
    "\n",
    "print(\"Tabela 'country' gravada como Delta no MinIO!\")"
   ]
  }
 ],
 "metadata": {
  "kernelspec": {
   "display_name": "Python 3 (ipykernel)",
   "language": "python",
   "name": "python3"
  },
  "language_info": {
   "codemirror_mode": {
    "name": "ipython",
    "version": 3
   },
   "file_extension": ".py",
   "mimetype": "text/x-python",
   "name": "python",
   "nbconvert_exporter": "python",
   "pygments_lexer": "ipython3",
   "version": "3.10.5"
  }
 },
 "nbformat": 4,
 "nbformat_minor": 5
}
